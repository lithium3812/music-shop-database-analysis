{
 "cells": [
  {
   "cell_type": "markdown",
   "metadata": {
    "collapsed": true
   },
   "source": [
    "# Digital music shop data analysis"
   ]
  },
  {
   "cell_type": "markdown",
   "metadata": {},
   "source": [
    "In this project, I worked on data analysis of a database of a fictitious degital music shop like iTunes store. This database is called Chinook and publicly available [from here](https://github.com/lerocha/chinook-database).\n",
    "I will work with SQLite portable database 'chinook.db'. The Chinook database contains information about the artists, songs, and albums from the music shop, as well as information on the shop's employees, customers, and the customers purchases. This information is contained in eleven tables. "
   ]
  },
  {
   "cell_type": "markdown",
   "metadata": {},
   "source": [
    "#### Chinook database"
   ]
  },
  {
   "cell_type": "code",
   "execution_count": 2,
   "metadata": {},
   "outputs": [
    {
     "data": {
      "text/plain": [
       "'Connected: None@chinook.db'"
      ]
     },
     "execution_count": 2,
     "metadata": {},
     "output_type": "execute_result"
    }
   ],
   "source": [
    "%%capture\n",
    "%load_ext sql\n",
    "%sql sqlite:///chinook.db"
   ]
  },
  {
   "cell_type": "code",
   "execution_count": 3,
   "metadata": {},
   "outputs": [
    {
     "name": "stdout",
     "output_type": "stream",
     "text": [
      "Done.\n"
     ]
    },
    {
     "data": {
      "text/html": [
       "<table>\n",
       "    <tr>\n",
       "        <th>name</th>\n",
       "        <th>type</th>\n",
       "    </tr>\n",
       "    <tr>\n",
       "        <td>album</td>\n",
       "        <td>table</td>\n",
       "    </tr>\n",
       "    <tr>\n",
       "        <td>artist</td>\n",
       "        <td>table</td>\n",
       "    </tr>\n",
       "    <tr>\n",
       "        <td>customer</td>\n",
       "        <td>table</td>\n",
       "    </tr>\n",
       "    <tr>\n",
       "        <td>employee</td>\n",
       "        <td>table</td>\n",
       "    </tr>\n",
       "    <tr>\n",
       "        <td>genre</td>\n",
       "        <td>table</td>\n",
       "    </tr>\n",
       "    <tr>\n",
       "        <td>invoice</td>\n",
       "        <td>table</td>\n",
       "    </tr>\n",
       "    <tr>\n",
       "        <td>invoice_line</td>\n",
       "        <td>table</td>\n",
       "    </tr>\n",
       "    <tr>\n",
       "        <td>media_type</td>\n",
       "        <td>table</td>\n",
       "    </tr>\n",
       "    <tr>\n",
       "        <td>playlist</td>\n",
       "        <td>table</td>\n",
       "    </tr>\n",
       "    <tr>\n",
       "        <td>playlist_track</td>\n",
       "        <td>table</td>\n",
       "    </tr>\n",
       "    <tr>\n",
       "        <td>track</td>\n",
       "        <td>table</td>\n",
       "    </tr>\n",
       "</table>"
      ],
      "text/plain": [
       "[('album', 'table'),\n",
       " ('artist', 'table'),\n",
       " ('customer', 'table'),\n",
       " ('employee', 'table'),\n",
       " ('genre', 'table'),\n",
       " ('invoice', 'table'),\n",
       " ('invoice_line', 'table'),\n",
       " ('media_type', 'table'),\n",
       " ('playlist', 'table'),\n",
       " ('playlist_track', 'table'),\n",
       " ('track', 'table')]"
      ]
     },
     "execution_count": 3,
     "metadata": {},
     "output_type": "execute_result"
    }
   ],
   "source": [
    "%%sql\n",
    "--All tables and views in chinook database\n",
    "SELECT\n",
    "    name,\n",
    "    type\n",
    "FROM sqlite_master\n",
    "WHERE type IN (\"table\",\"view\");"
   ]
  },
  {
   "cell_type": "code",
   "execution_count": 4,
   "metadata": {},
   "outputs": [
    {
     "name": "stdout",
     "output_type": "stream",
     "text": [
      "Done.\n"
     ]
    },
    {
     "data": {
      "text/html": [
       "<table>\n",
       "    <tr>\n",
       "        <th>album_id</th>\n",
       "        <th>title</th>\n",
       "        <th>artist_id</th>\n",
       "    </tr>\n",
       "    <tr>\n",
       "        <td>1</td>\n",
       "        <td>For Those About To Rock We Salute You</td>\n",
       "        <td>1</td>\n",
       "    </tr>\n",
       "    <tr>\n",
       "        <td>2</td>\n",
       "        <td>Balls to the Wall</td>\n",
       "        <td>2</td>\n",
       "    </tr>\n",
       "    <tr>\n",
       "        <td>3</td>\n",
       "        <td>Restless and Wild</td>\n",
       "        <td>2</td>\n",
       "    </tr>\n",
       "    <tr>\n",
       "        <td>4</td>\n",
       "        <td>Let There Be Rock</td>\n",
       "        <td>1</td>\n",
       "    </tr>\n",
       "    <tr>\n",
       "        <td>5</td>\n",
       "        <td>Big Ones</td>\n",
       "        <td>3</td>\n",
       "    </tr>\n",
       "</table>"
      ],
      "text/plain": [
       "[(1, 'For Those About To Rock We Salute You', 1),\n",
       " (2, 'Balls to the Wall', 2),\n",
       " (3, 'Restless and Wild', 2),\n",
       " (4, 'Let There Be Rock', 1),\n",
       " (5, 'Big Ones', 3)]"
      ]
     },
     "execution_count": 4,
     "metadata": {},
     "output_type": "execute_result"
    }
   ],
   "source": [
    "%%sql\n",
    "SELECT * FROM album LIMIT 5;"
   ]
  },
  {
   "cell_type": "code",
   "execution_count": 5,
   "metadata": {},
   "outputs": [
    {
     "name": "stdout",
     "output_type": "stream",
     "text": [
      "Done.\n"
     ]
    },
    {
     "data": {
      "text/html": [
       "<table>\n",
       "    <tr>\n",
       "        <th>track_id</th>\n",
       "        <th>name</th>\n",
       "        <th>album_id</th>\n",
       "        <th>media_type_id</th>\n",
       "        <th>genre_id</th>\n",
       "        <th>composer</th>\n",
       "        <th>milliseconds</th>\n",
       "        <th>bytes</th>\n",
       "        <th>unit_price</th>\n",
       "    </tr>\n",
       "    <tr>\n",
       "        <td>1</td>\n",
       "        <td>For Those About To Rock (We Salute You)</td>\n",
       "        <td>1</td>\n",
       "        <td>1</td>\n",
       "        <td>1</td>\n",
       "        <td>Angus Young, Malcolm Young, Brian Johnson</td>\n",
       "        <td>343719</td>\n",
       "        <td>11170334</td>\n",
       "        <td>0.99</td>\n",
       "    </tr>\n",
       "    <tr>\n",
       "        <td>2</td>\n",
       "        <td>Balls to the Wall</td>\n",
       "        <td>2</td>\n",
       "        <td>2</td>\n",
       "        <td>1</td>\n",
       "        <td>None</td>\n",
       "        <td>342562</td>\n",
       "        <td>5510424</td>\n",
       "        <td>0.99</td>\n",
       "    </tr>\n",
       "    <tr>\n",
       "        <td>3</td>\n",
       "        <td>Fast As a Shark</td>\n",
       "        <td>3</td>\n",
       "        <td>2</td>\n",
       "        <td>1</td>\n",
       "        <td>F. Baltes, S. Kaufman, U. Dirkscneider &amp; W. Hoffman</td>\n",
       "        <td>230619</td>\n",
       "        <td>3990994</td>\n",
       "        <td>0.99</td>\n",
       "    </tr>\n",
       "    <tr>\n",
       "        <td>4</td>\n",
       "        <td>Restless and Wild</td>\n",
       "        <td>3</td>\n",
       "        <td>2</td>\n",
       "        <td>1</td>\n",
       "        <td>F. Baltes, R.A. Smith-Diesel, S. Kaufman, U. Dirkscneider &amp; W. Hoffman</td>\n",
       "        <td>252051</td>\n",
       "        <td>4331779</td>\n",
       "        <td>0.99</td>\n",
       "    </tr>\n",
       "    <tr>\n",
       "        <td>5</td>\n",
       "        <td>Princess of the Dawn</td>\n",
       "        <td>3</td>\n",
       "        <td>2</td>\n",
       "        <td>1</td>\n",
       "        <td>Deaffy &amp; R.A. Smith-Diesel</td>\n",
       "        <td>375418</td>\n",
       "        <td>6290521</td>\n",
       "        <td>0.99</td>\n",
       "    </tr>\n",
       "</table>"
      ],
      "text/plain": [
       "[(1, 'For Those About To Rock (We Salute You)', 1, 1, 1, 'Angus Young, Malcolm Young, Brian Johnson', 343719, 11170334, 0.99),\n",
       " (2, 'Balls to the Wall', 2, 2, 1, None, 342562, 5510424, 0.99),\n",
       " (3, 'Fast As a Shark', 3, 2, 1, 'F. Baltes, S. Kaufman, U. Dirkscneider & W. Hoffman', 230619, 3990994, 0.99),\n",
       " (4, 'Restless and Wild', 3, 2, 1, 'F. Baltes, R.A. Smith-Diesel, S. Kaufman, U. Dirkscneider & W. Hoffman', 252051, 4331779, 0.99),\n",
       " (5, 'Princess of the Dawn', 3, 2, 1, 'Deaffy & R.A. Smith-Diesel', 375418, 6290521, 0.99)]"
      ]
     },
     "execution_count": 5,
     "metadata": {},
     "output_type": "execute_result"
    }
   ],
   "source": [
    "%%sql\n",
    "SELECT * FROM track LIMIT 5;"
   ]
  },
  {
   "cell_type": "markdown",
   "metadata": {},
   "source": [
    "## Which albums should we purchase for the store?"
   ]
  },
  {
   "cell_type": "markdown",
   "metadata": {},
   "source": [
    "**Situation:** We want to introduce 3 new albums into our store and have 4 candidates which artists and genres are as follows.\n",
    "\n",
    "|  Artist Name          |  Genre   |\n",
    "| --------------------- | -------- |\n",
    "|  Regal                |  Hip-Hop |\n",
    "|  Red Tone             |  Punk    |\n",
    "|  Meteor and the Girls |  Pop     |\n",
    "|  Slim Jim Bite        |  Blues   |\n",
    "\n",
    "Which albums should we choose?"
   ]
  },
  {
   "cell_type": "code",
   "execution_count": 6,
   "metadata": {},
   "outputs": [
    {
     "name": "stdout",
     "output_type": "stream",
     "text": [
      "Done.\n"
     ]
    },
    {
     "data": {
      "text/html": [
       "<table>\n",
       "    <tr>\n",
       "        <th>name</th>\n",
       "        <th>n_track_sold</th>\n",
       "        <th>percentage</th>\n",
       "    </tr>\n",
       "    <tr>\n",
       "        <td>Rock</td>\n",
       "        <td>561</td>\n",
       "        <td>53.4</td>\n",
       "    </tr>\n",
       "    <tr>\n",
       "        <td>Alternative &amp; Punk</td>\n",
       "        <td>130</td>\n",
       "        <td>12.4</td>\n",
       "    </tr>\n",
       "    <tr>\n",
       "        <td>Metal</td>\n",
       "        <td>124</td>\n",
       "        <td>11.8</td>\n",
       "    </tr>\n",
       "    <tr>\n",
       "        <td>R&amp;B/Soul</td>\n",
       "        <td>53</td>\n",
       "        <td>5.0</td>\n",
       "    </tr>\n",
       "    <tr>\n",
       "        <td>Blues</td>\n",
       "        <td>36</td>\n",
       "        <td>3.4</td>\n",
       "    </tr>\n",
       "    <tr>\n",
       "        <td>Alternative</td>\n",
       "        <td>35</td>\n",
       "        <td>3.3</td>\n",
       "    </tr>\n",
       "    <tr>\n",
       "        <td>Latin</td>\n",
       "        <td>22</td>\n",
       "        <td>2.1</td>\n",
       "    </tr>\n",
       "    <tr>\n",
       "        <td>Pop</td>\n",
       "        <td>22</td>\n",
       "        <td>2.1</td>\n",
       "    </tr>\n",
       "    <tr>\n",
       "        <td>Hip Hop/Rap</td>\n",
       "        <td>20</td>\n",
       "        <td>1.9</td>\n",
       "    </tr>\n",
       "    <tr>\n",
       "        <td>Jazz</td>\n",
       "        <td>14</td>\n",
       "        <td>1.3</td>\n",
       "    </tr>\n",
       "    <tr>\n",
       "        <td>Easy Listening</td>\n",
       "        <td>13</td>\n",
       "        <td>1.2</td>\n",
       "    </tr>\n",
       "    <tr>\n",
       "        <td>Reggae</td>\n",
       "        <td>6</td>\n",
       "        <td>0.6</td>\n",
       "    </tr>\n",
       "    <tr>\n",
       "        <td>Electronica/Dance</td>\n",
       "        <td>5</td>\n",
       "        <td>0.5</td>\n",
       "    </tr>\n",
       "    <tr>\n",
       "        <td>Classical</td>\n",
       "        <td>4</td>\n",
       "        <td>0.4</td>\n",
       "    </tr>\n",
       "    <tr>\n",
       "        <td>Heavy Metal</td>\n",
       "        <td>3</td>\n",
       "        <td>0.3</td>\n",
       "    </tr>\n",
       "    <tr>\n",
       "        <td>Soundtrack</td>\n",
       "        <td>2</td>\n",
       "        <td>0.2</td>\n",
       "    </tr>\n",
       "    <tr>\n",
       "        <td>TV Shows</td>\n",
       "        <td>1</td>\n",
       "        <td>0.1</td>\n",
       "    </tr>\n",
       "</table>"
      ],
      "text/plain": [
       "[('Rock', 561, 53.4),\n",
       " ('Alternative & Punk', 130, 12.4),\n",
       " ('Metal', 124, 11.8),\n",
       " ('R&B/Soul', 53, 5.0),\n",
       " ('Blues', 36, 3.4),\n",
       " ('Alternative', 35, 3.3),\n",
       " ('Latin', 22, 2.1),\n",
       " ('Pop', 22, 2.1),\n",
       " ('Hip Hop/Rap', 20, 1.9),\n",
       " ('Jazz', 14, 1.3),\n",
       " ('Easy Listening', 13, 1.2),\n",
       " ('Reggae', 6, 0.6),\n",
       " ('Electronica/Dance', 5, 0.5),\n",
       " ('Classical', 4, 0.4),\n",
       " ('Heavy Metal', 3, 0.3),\n",
       " ('Soundtrack', 2, 0.2),\n",
       " ('TV Shows', 1, 0.1)]"
      ]
     },
     "execution_count": 6,
     "metadata": {},
     "output_type": "execute_result"
    }
   ],
   "source": [
    "%%sql\n",
    "/*\n",
    "Genres and the number of the corresponding tracks sold in USA\n",
    "Join 4 tables genre, track, invoice_line, invoice where billing_country is USA\n",
    "Group by genre name\n",
    "*/\n",
    "\n",
    "WITH genre_tracks\n",
    "    AS (\n",
    "        SELECT \n",
    "            genre.name,\n",
    "            COUNT(*) AS n_track_sold\n",
    "          FROM genre\n",
    "          LEFT JOIN track\n",
    "            ON genre.genre_id = track.genre_id\n",
    "          LEFT JOIN invoice_line AS il\n",
    "            ON track.track_id = il.track_id\n",
    "          LEFT JOIN invoice\n",
    "            ON il.invoice_id = invoice.invoice_id\n",
    "         WHERE invoice.billing_country = 'USA'\n",
    "         GROUP BY genre.name\n",
    "     )\n",
    "    \n",
    "--Percentage of each genre in all genres in terms of the number of tracks\n",
    "SELECT\n",
    "    *,\n",
    "    ROUND((n_track_sold/(\n",
    "                  SELECT TOTAL(n_track_sold) \n",
    "                  FROM genre_tracks\n",
    "                 ))*100, 1) AS percentage    \n",
    "  FROM genre_tracks\n",
    " ORDER BY percentage DESC;\n"
   ]
  },
  {
   "cell_type": "markdown",
   "metadata": {},
   "source": [
    "According to this data, we can say we should purchase Red Tone, Meteor and the Girls, and Slim Jim Bites for the store."
   ]
  },
  {
   "cell_type": "markdown",
   "metadata": {
    "collapsed": true
   },
   "source": [
    "## Who is the best sales support agent?"
   ]
  },
  {
   "cell_type": "code",
   "execution_count": 7,
   "metadata": {},
   "outputs": [
    {
     "name": "stdout",
     "output_type": "stream",
     "text": [
      "Done.\n"
     ]
    },
    {
     "data": {
      "text/html": [
       "<table>\n",
       "    <tr>\n",
       "        <th>all_unique_titles</th>\n",
       "    </tr>\n",
       "    <tr>\n",
       "        <td>General Manager</td>\n",
       "    </tr>\n",
       "    <tr>\n",
       "        <td>Sales Manager</td>\n",
       "    </tr>\n",
       "    <tr>\n",
       "        <td>Sales Support Agent</td>\n",
       "    </tr>\n",
       "    <tr>\n",
       "        <td>IT Manager</td>\n",
       "    </tr>\n",
       "    <tr>\n",
       "        <td>IT Staff</td>\n",
       "    </tr>\n",
       "</table>"
      ],
      "text/plain": [
       "[('General Manager',),\n",
       " ('Sales Manager',),\n",
       " ('Sales Support Agent',),\n",
       " ('IT Manager',),\n",
       " ('IT Staff',)]"
      ]
     },
     "execution_count": 7,
     "metadata": {},
     "output_type": "execute_result"
    }
   ],
   "source": [
    "%%sql\n",
    "SELECT DISTINCT title AS all_unique_titles FROM employee"
   ]
  },
  {
   "cell_type": "markdown",
   "metadata": {
    "collapsed": true
   },
   "source": [
    "Each cutomer is assigned to a sales support agent at their first purchase. Who is performing better or worse in terms of sales?"
   ]
  },
  {
   "cell_type": "code",
   "execution_count": 8,
   "metadata": {},
   "outputs": [
    {
     "name": "stdout",
     "output_type": "stream",
     "text": [
      "Done.\n"
     ]
    },
    {
     "data": {
      "text/html": [
       "<table>\n",
       "    <tr>\n",
       "        <th>employee_name</th>\n",
       "        <th>reports_to</th>\n",
       "        <th>birthdate</th>\n",
       "        <th>hire_date</th>\n",
       "        <th>country</th>\n",
       "        <th>total_sales</th>\n",
       "    </tr>\n",
       "    <tr>\n",
       "        <td>Jane Peacock</td>\n",
       "        <td>2</td>\n",
       "        <td>1973-08-29 00:00:00</td>\n",
       "        <td>2017-04-01 00:00:00</td>\n",
       "        <td>Canada</td>\n",
       "        <td>1731.510000000004</td>\n",
       "    </tr>\n",
       "    <tr>\n",
       "        <td>Margaret Park</td>\n",
       "        <td>2</td>\n",
       "        <td>1947-09-19 00:00:00</td>\n",
       "        <td>2017-05-03 00:00:00</td>\n",
       "        <td>Canada</td>\n",
       "        <td>1584.0000000000032</td>\n",
       "    </tr>\n",
       "    <tr>\n",
       "        <td>Steve Johnson</td>\n",
       "        <td>2</td>\n",
       "        <td>1965-03-03 00:00:00</td>\n",
       "        <td>2017-10-17 00:00:00</td>\n",
       "        <td>Canada</td>\n",
       "        <td>1393.9200000000028</td>\n",
       "    </tr>\n",
       "</table>"
      ],
      "text/plain": [
       "[('Jane Peacock', 2, '1973-08-29 00:00:00', '2017-04-01 00:00:00', 'Canada', 1731.510000000004),\n",
       " ('Margaret Park', 2, '1947-09-19 00:00:00', '2017-05-03 00:00:00', 'Canada', 1584.0000000000032),\n",
       " ('Steve Johnson', 2, '1965-03-03 00:00:00', '2017-10-17 00:00:00', 'Canada', 1393.9200000000028)]"
      ]
     },
     "execution_count": 8,
     "metadata": {},
     "output_type": "execute_result"
    }
   ],
   "source": [
    "%%sql\n",
    "/*\n",
    "Sales support agents and their total sales.\n",
    "Join 3 tables employee, customer, invoice.\n",
    "Sum of total in invoice group by employee name.\n",
    "*/\n",
    "SELECT \n",
    "    e.first_name || ' ' || e.last_name AS employee_name,\n",
    "    e.reports_to,\n",
    "    e.birthdate,\n",
    "    e.hire_date,\n",
    "    e.country,\n",
    "    SUM(i.total) AS total_sales\n",
    "  FROM employee AS e\n",
    "  LEFT JOIN customer AS c\n",
    "    ON e.employee_id = c.support_rep_id\n",
    " INNER JOIN invoice AS i\n",
    "    ON c.customer_id = i.customer_id\n",
    " WHERE e.title = 'Sales Support Agent'\n",
    " GROUP BY employee_name;"
   ]
  },
  {
   "cell_type": "code",
   "execution_count": 9,
   "metadata": {},
   "outputs": [
    {
     "name": "stdout",
     "output_type": "stream",
     "text": [
      "Done.\n"
     ]
    },
    {
     "data": {
      "text/html": [
       "<table>\n",
       "    <tr>\n",
       "        <th>country</th>\n",
       "    </tr>\n",
       "    <tr>\n",
       "        <td>Canada</td>\n",
       "    </tr>\n",
       "</table>"
      ],
      "text/plain": [
       "[('Canada',)]"
      ]
     },
     "execution_count": 9,
     "metadata": {},
     "output_type": "execute_result"
    }
   ],
   "source": [
    "%%sql\n",
    "SELECT DISTINCT country FROM employee"
   ]
  },
  {
   "cell_type": "markdown",
   "metadata": {},
   "source": [
    "Only thing that can be seen here is the longer employees have been working in the store, the more sales they have. That is just trivial."
   ]
  },
  {
   "cell_type": "markdown",
   "metadata": {
    "collapsed": true
   },
   "source": [
    "## Sales by country"
   ]
  },
  {
   "cell_type": "code",
   "execution_count": 10,
   "metadata": {},
   "outputs": [
    {
     "name": "stdout",
     "output_type": "stream",
     "text": [
      "Done.\n"
     ]
    },
    {
     "data": {
      "text/html": [
       "<table>\n",
       "    <tr>\n",
       "        <th>country</th>\n",
       "        <th>n_customers</th>\n",
       "        <th>total_sales</th>\n",
       "        <th>avg_sales_p_customer</th>\n",
       "        <th>avg_order_value</th>\n",
       "    </tr>\n",
       "    <tr>\n",
       "        <td>Brazil</td>\n",
       "        <td>5</td>\n",
       "        <td>427.6799999999999</td>\n",
       "        <td>87.55819672131153</td>\n",
       "        <td>7.011147540983605</td>\n",
       "    </tr>\n",
       "    <tr>\n",
       "        <td>Canada</td>\n",
       "        <td>8</td>\n",
       "        <td>535.59</td>\n",
       "        <td>69.62565789473678</td>\n",
       "        <td>7.047236842105264</td>\n",
       "    </tr>\n",
       "    <tr>\n",
       "        <td>Czech Republic</td>\n",
       "        <td>2</td>\n",
       "        <td>273.23999999999995</td>\n",
       "        <td>138.20399999999992</td>\n",
       "        <td>9.107999999999999</td>\n",
       "    </tr>\n",
       "    <tr>\n",
       "        <td>France</td>\n",
       "        <td>5</td>\n",
       "        <td>389.07000000000005</td>\n",
       "        <td>78.42779999999999</td>\n",
       "        <td>7.781400000000001</td>\n",
       "    </tr>\n",
       "    <tr>\n",
       "        <td>Germany</td>\n",
       "        <td>4</td>\n",
       "        <td>334.61999999999995</td>\n",
       "        <td>83.90853658536594</td>\n",
       "        <td>8.161463414634145</td>\n",
       "    </tr>\n",
       "    <tr>\n",
       "        <td>India</td>\n",
       "        <td>2</td>\n",
       "        <td>183.14999999999995</td>\n",
       "        <td>96.40714285714282</td>\n",
       "        <td>8.72142857142857</td>\n",
       "    </tr>\n",
       "    <tr>\n",
       "        <td>Portugal</td>\n",
       "        <td>2</td>\n",
       "        <td>185.13</td>\n",
       "        <td>91.48965517241383</td>\n",
       "        <td>6.3837931034482756</td>\n",
       "    </tr>\n",
       "    <tr>\n",
       "        <td>USA</td>\n",
       "        <td>13</td>\n",
       "        <td>1040.4900000000005</td>\n",
       "        <td>81.30091603053418</td>\n",
       "        <td>7.942671755725194</td>\n",
       "    </tr>\n",
       "    <tr>\n",
       "        <td>United Kingdom</td>\n",
       "        <td>3</td>\n",
       "        <td>245.52</td>\n",
       "        <td>83.47821428571426</td>\n",
       "        <td>8.768571428571429</td>\n",
       "    </tr>\n",
       "    <tr>\n",
       "        <td>Other</td>\n",
       "        <td>15</td>\n",
       "        <td>1094.94</td>\n",
       "        <td>76.12897959183678</td>\n",
       "        <td>7.448571428571429</td>\n",
       "    </tr>\n",
       "</table>"
      ],
      "text/plain": [
       "[('Brazil', 5, 427.6799999999999, 87.55819672131153, 7.011147540983605),\n",
       " ('Canada', 8, 535.59, 69.62565789473678, 7.047236842105264),\n",
       " ('Czech Republic', 2, 273.23999999999995, 138.20399999999992, 9.107999999999999),\n",
       " ('France', 5, 389.07000000000005, 78.42779999999999, 7.781400000000001),\n",
       " ('Germany', 4, 334.61999999999995, 83.90853658536594, 8.161463414634145),\n",
       " ('India', 2, 183.14999999999995, 96.40714285714282, 8.72142857142857),\n",
       " ('Portugal', 2, 185.13, 91.48965517241383, 6.3837931034482756),\n",
       " ('USA', 13, 1040.4900000000005, 81.30091603053418, 7.942671755725194),\n",
       " ('United Kingdom', 3, 245.52, 83.47821428571426, 8.768571428571429),\n",
       " ('Other', 15, 1094.94, 76.12897959183678, 7.448571428571429)]"
      ]
     },
     "execution_count": 10,
     "metadata": {},
     "output_type": "execute_result"
    }
   ],
   "source": [
    "%%sql\n",
    "/*\n",
    "For each country,\n",
    "1. total number of customers\n",
    "2. total value of sales\n",
    "3. avg. value of sales per customers\n",
    "4. avg. order value\n",
    "Countries with only one customer are grouped into \"Other\".\n",
    "*/\n",
    "\n",
    "--Give new label 1 if the country is in \"Other\"\n",
    "WITH country_other \n",
    "    AS (\n",
    "        SELECT\n",
    "            country,\n",
    "            COUNT(DISTINCT customer_id) AS n_customers,\n",
    "            CASE\n",
    "                WHEN COUNT(DISTINCT customer_id) = 1 \n",
    "                THEN 1\n",
    "                ELSE 0\n",
    "             END AS other_or_not\n",
    "         FROM customer\n",
    "        GROUP BY country\n",
    "      )\n",
    "\n",
    "--Group by country, bring \"Other\" at the bottom\n",
    "SELECT\n",
    "    c2.country,\n",
    "    COUNT(DISTINCT c2.customer_id) AS n_customers,\n",
    "    SUM(i2.total) AS total_sales,\n",
    "    AVG(c2.sales_per_customer) AS avg_sales_p_customer,\n",
    "    AVG(i2.total) AS avg_order_value\n",
    "  FROM ( \n",
    "        --Relabel country column, get sales per customer\n",
    "        SELECT\n",
    "            c.customer_id,\n",
    "            CASE\n",
    "                WHEN co.other_or_not = 1\n",
    "                THEN \"Other\"\n",
    "                ELSE c.country\n",
    "             END AS country,\n",
    "            co.other_or_not,\n",
    "            SUM(i1.total) AS sales_per_customer\n",
    "          FROM customer AS c\n",
    "         INNER JOIN country_other AS co\n",
    "            ON c.country = co.country\n",
    "         INNER JOIN invoice AS i1\n",
    "            ON c.customer_id = i1.customer_id\n",
    "         GROUP BY i1.customer_id\n",
    "      ) AS c2\n",
    " INNER JOIN invoice AS i2\n",
    "    ON c2.customer_id = i2.customer_id\n",
    " GROUP BY c2.country\n",
    " ORDER BY c2.other_or_not"
   ]
  },
  {
   "cell_type": "markdown",
   "metadata": {
    "collapsed": true
   },
   "source": [
    "According to the average order value, \n",
    "1. Czech Republic\n",
    "2. United Kingdom\n",
    "3. India\n",
    "\n",
    "might have potential for further growth.\n",
    "However the number of samples is too small to make accurate prediction."
   ]
  },
  {
   "cell_type": "markdown",
   "metadata": {},
   "source": [
    "## Ratio of album purchases vs individual purchases"
   ]
  },
  {
   "cell_type": "markdown",
   "metadata": {},
   "source": [
    "Customers have 2 types of purchase options:\n",
    "1. Purchase by albums\n",
    "2. Purchase by individual tracks\n",
    "\n",
    "Customers can't mix 2 types of purchases.\n",
    "\n",
    "**Situation**: The store is considering to change their purchasing strategy such that they purchase only popular tracks and not entire albums to save money. What would its impact on revenue be like?\n",
    "\n",
    "I would like to figure out the percentage of each type of purchases."
   ]
  },
  {
   "cell_type": "markdown",
   "metadata": {},
   "source": [
    "#### Bad example"
   ]
  },
  {
   "cell_type": "markdown",
   "metadata": {},
   "source": [
    "I first tried counting number of albums each invoice consists of and regarding all purchases containing only a single album as album purchases. However this overestimates album purchases since some customers purchase only a few tracks from the same album."
   ]
  },
  {
   "cell_type": "code",
   "execution_count": 13,
   "metadata": {},
   "outputs": [
    {
     "name": "stdout",
     "output_type": "stream",
     "text": [
      "Done.\n"
     ]
    },
    {
     "data": {
      "text/html": [
       "<table>\n",
       "    <tr>\n",
       "        <th>album_purchase</th>\n",
       "        <th>percentage</th>\n",
       "    </tr>\n",
       "    <tr>\n",
       "        <td>171</td>\n",
       "        <td>0.2785016286644951</td>\n",
       "    </tr>\n",
       "</table>"
      ],
      "text/plain": [
       "[(171, 0.2785016286644951)]"
      ]
     },
     "execution_count": 13,
     "metadata": {},
     "output_type": "execute_result"
    }
   ],
   "source": [
    "%%sql\n",
    "--Bad example!\n",
    "SELECT\n",
    "    SUM(\n",
    "        CASE\n",
    "            WHEN n_albums = 1\n",
    "            THEN 1\n",
    "            ELSE 0\n",
    "         END\n",
    "      ) AS album_purchase,\n",
    "    SUM(\n",
    "        CASE\n",
    "            WHEN n_albums = 1\n",
    "            THEN 1\n",
    "            ELSE 0\n",
    "         END\n",
    "      )/CAST(COUNT(*) AS FLOAT) AS percentage\n",
    "  FROM (\n",
    "        SELECT\n",
    "            il.invoice_id,\n",
    "            COUNT(DISTINCT t.album_id) AS n_albums\n",
    "          FROM invoice_line AS il\n",
    "         INNER JOIN track AS t\n",
    "            ON il.track_id = t.track_id\n",
    "         GROUP BY il.invoice_id\n",
    "      )\n"
   ]
  },
  {
   "cell_type": "markdown",
   "metadata": {},
   "source": [
    "### Solutions"
   ]
  },
  {
   "cell_type": "markdown",
   "metadata": {},
   "source": [
    "I found 3 different queries to achieve the table of the purpose."
   ]
  },
  {
   "cell_type": "markdown",
   "metadata": {},
   "source": [
    "#### Solution 1"
   ]
  },
  {
   "cell_type": "code",
   "execution_count": 30,
   "metadata": {},
   "outputs": [
    {
     "name": "stdout",
     "output_type": "stream",
     "text": [
      "Done.\n"
     ]
    },
    {
     "data": {
      "text/html": [
       "<table>\n",
       "    <tr>\n",
       "        <th>purchase_type</th>\n",
       "        <th>number_of_invoices</th>\n",
       "        <th>percentage</th>\n",
       "    </tr>\n",
       "    <tr>\n",
       "        <td>album</td>\n",
       "        <td>114</td>\n",
       "        <td>18.566775244299674</td>\n",
       "    </tr>\n",
       "    <tr>\n",
       "        <td>individual</td>\n",
       "        <td>500</td>\n",
       "        <td>81.43322475570032</td>\n",
       "    </tr>\n",
       "</table>"
      ],
      "text/plain": [
       "[('album', 114, 18.566775244299674), ('individual', 500, 81.43322475570032)]"
      ]
     },
     "execution_count": 30,
     "metadata": {},
     "output_type": "execute_result"
    }
   ],
   "source": [
    "%%sql\n",
    "/*\n",
    "For each type of purchase (album or indivisual tracks)\n",
    "1. Number of invoices\n",
    "2. Percentage in all purchases\n",
    "*/\n",
    "\n",
    "WITH\n",
    "    --First track of each invoice. Used later as reference to album.\n",
    "    invoice_first_track\n",
    "        AS (\n",
    "            SELECT\n",
    "                il.invoice_id,\n",
    "                MIN(il.track_id) AS first_track_id\n",
    "              FROM invoice_line AS il\n",
    "             GROUP BY il.invoice_id\n",
    "          ),\n",
    "    --Invoices and their tracks\n",
    "    invoice_tracks\n",
    "        AS (\n",
    "            SELECT\n",
    "                il.invoice_id,\n",
    "                il.track_id\n",
    "              FROM invoice_line AS il\n",
    "          ),\n",
    "    --Assign each invoice the tracks of the album referred to by the first With clause\n",
    "    album_tracks\n",
    "        AS (\n",
    "            SELECT\n",
    "                ift.invoice_id,\n",
    "                t2.track_id\n",
    "              FROM invoice_first_track AS ift\n",
    "             INNER JOIN track AS t1\n",
    "                ON ift.first_track_id = t1.track_id\n",
    "             INNER JOIN track AS t2\n",
    "                ON t1.album_id = t2.album_id\n",
    "          ),\n",
    "    --invoice_id of differences of invoice tracks and referred album tracks\n",
    "    differences\n",
    "        AS (\n",
    "            SELECT DISTINCT invoice_id\n",
    "              FROM (\n",
    "                    SELECT *\n",
    "                      FROM invoice_tracks\n",
    "                    EXCEPT\n",
    "                    SELECT *\n",
    "                      FROM album_tracks\n",
    "                   )\n",
    "             UNION\n",
    "            SELECT DISTINCT invoice_id\n",
    "              FROM (\n",
    "                    SELECT *\n",
    "                      FROM album_tracks\n",
    "                    EXCEPT\n",
    "                    SELECT *\n",
    "                      FROM invoice_tracks\n",
    "                   )\n",
    "          )\n",
    "\n",
    "/*\n",
    "In the subquery at FROM clause, label purchase type of each invoice \n",
    "by whether invoice_id is found in \"differences\" table.\n",
    "Then group by this label and count invoice_id.\n",
    "*/\n",
    "SELECT\n",
    "    purchase_type,\n",
    "    COUNT(invoice_id) AS number_of_invoices,\n",
    "    (\n",
    "     COUNT(invoice_id)/CAST((SELECT COUNT(*) FROM invoice) AS Float)\n",
    "    )*100 AS percentage\n",
    "  FROM (\n",
    "        SELECT\n",
    "            invoice_id,\n",
    "          CASE\n",
    "              WHEN invoice_id IN differences\n",
    "              THEN 'individual'\n",
    "              ELSE 'album'\n",
    "          END AS purchase_type\n",
    "         FROM invoice\n",
    "        ORDER BY invoice_id\n",
    "       )\n",
    " GROUP BY purchase_type;"
   ]
  },
  {
   "cell_type": "markdown",
   "metadata": {},
   "source": [
    "#### Solution 2"
   ]
  },
  {
   "cell_type": "code",
   "execution_count": 32,
   "metadata": {},
   "outputs": [
    {
     "name": "stdout",
     "output_type": "stream",
     "text": [
      "Done.\n"
     ]
    },
    {
     "data": {
      "text/html": [
       "<table>\n",
       "    <tr>\n",
       "        <th>purchase_type</th>\n",
       "        <th>number_of_invoices</th>\n",
       "        <th>percentage</th>\n",
       "    </tr>\n",
       "    <tr>\n",
       "        <td>album</td>\n",
       "        <td>114</td>\n",
       "        <td>18.566775244299674</td>\n",
       "    </tr>\n",
       "    <tr>\n",
       "        <td>indivisual</td>\n",
       "        <td>500</td>\n",
       "        <td>81.43322475570032</td>\n",
       "    </tr>\n",
       "</table>"
      ],
      "text/plain": [
       "[('album', 114, 18.566775244299674), ('indivisual', 500, 81.43322475570032)]"
      ]
     },
     "execution_count": 32,
     "metadata": {},
     "output_type": "execute_result"
    }
   ],
   "source": [
    "%%sql\n",
    "/*\n",
    "For each type of purchase (album or indivisual tracks)\n",
    "1. Number of invoices\n",
    "2. Percentage in all purchases\n",
    "*/\n",
    "\n",
    "WITH\n",
    "    --First track of each invoice. Used later as reference to album.\n",
    "    invoice_first_track\n",
    "        AS (\n",
    "            SELECT\n",
    "                il.invoice_id,\n",
    "                MIN(il.track_id) AS first_track_id\n",
    "              FROM invoice_line AS il\n",
    "             GROUP BY il.invoice_id\n",
    "          ),\n",
    "    --Invoices and their tracks\n",
    "    invoice_tracks\n",
    "        AS (\n",
    "            SELECT\n",
    "                il.invoice_id,\n",
    "                il.track_id\n",
    "              FROM invoice_line AS il\n",
    "          ),\n",
    "    --Assign each invoice the tracks of the album referred to by the first With clause\n",
    "    album_tracks\n",
    "        AS (\n",
    "            SELECT\n",
    "                ift.invoice_id,\n",
    "                t2.track_id\n",
    "              FROM invoice_first_track AS ift\n",
    "             INNER JOIN track AS t1\n",
    "                ON ift.first_track_id = t1.track_id\n",
    "             INNER JOIN track AS t2\n",
    "                ON t1.album_id = t2.album_id\n",
    "          )\n",
    "\n",
    "/*\n",
    "Subquery at FROM clause returns purchase type for each invoice.\n",
    "It is labeled as 'album' if tracks match those of the corresponding album.\n",
    "Then group by purchase type and count invoice_id.\n",
    "*/\n",
    "SELECT\n",
    "    purchase_type,\n",
    "    COUNT(invoice_id) AS number_of_invoices,\n",
    "    (\n",
    "     COUNT(invoice_id)/CAST((SELECT COUNT(*) FROM invoice) AS Float)\n",
    "    )*100 AS percentage\n",
    "  FROM (\n",
    "        SELECT\n",
    "            i.invoice_id,\n",
    "            CASE\n",
    "                WHEN (\n",
    "                      SELECT track_id\n",
    "                        FROM invoice_tracks\n",
    "                       WHERE invoice_id = i.invoice_id\n",
    "                      EXCEPT\n",
    "                      SELECT track_id\n",
    "                        FROM album_tracks\n",
    "                       WHERE invoice_id = i.invoice_id\n",
    "                    ) IS NULL\n",
    "                 AND (\n",
    "                      SELECT track_id\n",
    "                        FROM album_tracks\n",
    "                       WHERE invoice_id = i.invoice_id\n",
    "                      EXCEPT\n",
    "                      SELECT track_id\n",
    "                        FROM invoice_tracks\n",
    "                       WHERE invoice_id = i.invoice_id\n",
    "                    ) IS NULL\n",
    "                THEN 'album'\n",
    "                ELSE 'indivisual'\n",
    "            END AS purchase_type\n",
    "          FROM invoice AS i\n",
    "      )\n",
    " GROUP BY purchase_type;"
   ]
  },
  {
   "cell_type": "markdown",
   "metadata": {
    "collapsed": true
   },
   "source": [
    "#### Solution 3"
   ]
  },
  {
   "cell_type": "code",
   "execution_count": 34,
   "metadata": {},
   "outputs": [
    {
     "name": "stdout",
     "output_type": "stream",
     "text": [
      "Done.\n"
     ]
    },
    {
     "data": {
      "text/html": [
       "<table>\n",
       "    <tr>\n",
       "        <th>purchase_type</th>\n",
       "        <th>number_of_invoices</th>\n",
       "        <th>percentage</th>\n",
       "    </tr>\n",
       "    <tr>\n",
       "        <td>album</td>\n",
       "        <td>114</td>\n",
       "        <td>18.566775244299674</td>\n",
       "    </tr>\n",
       "    <tr>\n",
       "        <td>indivisual</td>\n",
       "        <td>500</td>\n",
       "        <td>81.43322475570032</td>\n",
       "    </tr>\n",
       "</table>"
      ],
      "text/plain": [
       "[('album', 114, 18.566775244299674), ('indivisual', 500, 81.43322475570032)]"
      ]
     },
     "execution_count": 34,
     "metadata": {},
     "output_type": "execute_result"
    }
   ],
   "source": [
    "%%sql\n",
    "/*\n",
    "For each type of purchase (album or indivisual tracks)\n",
    "1. Number of invoices\n",
    "2. Percentage in all purchases\n",
    "*/\n",
    "\n",
    "WITH\n",
    "    --First track of each invoice. Used later as reference to album.\n",
    "    invoice_first_track\n",
    "        AS (\n",
    "            SELECT\n",
    "                il.invoice_id,\n",
    "                MIN(il.track_id) AS first_track_id\n",
    "              FROM invoice_line AS il\n",
    "             GROUP BY il.invoice_id\n",
    "          )\n",
    "\n",
    "/*\n",
    "Subquery at FROM clause returns purchase type for each invoice.\n",
    "It is labeled as 'album' if tracks match those of the corresponding album.\n",
    "Then group by purchase type and count invoice_id.\n",
    "*/\n",
    "SELECT\n",
    "    purchase_type,\n",
    "    COUNT(invoice_id) AS number_of_invoices,\n",
    "    (\n",
    "     COUNT(invoice_id)/CAST((SELECT COUNT(*) FROM invoice) AS Float)\n",
    "    )*100 AS percentage\n",
    "  FROM (\n",
    "        SELECT\n",
    "            ift.invoice_id,\n",
    "            CASE\n",
    "                WHEN (\n",
    "                      SELECT il.track_id\n",
    "                        FROM invoice_line AS il\n",
    "                       WHERE il.invoice_id = ift.invoice_id\n",
    "                      EXCEPT\n",
    "                      SELECT t1.track_id\n",
    "                        FROM track AS t1\n",
    "                       WHERE t1.album_id = (\n",
    "                                            --Find the album of the first track of the invoice\n",
    "                                            SELECT t2.album_id\n",
    "                                              FROM track AS t2\n",
    "                                             WHERE t2.track_id = ift.first_track_id\n",
    "                                           )\n",
    "                     ) IS NULL\n",
    "                 AND (\n",
    "                      SELECT t1.track_id\n",
    "                        FROM track AS t1\n",
    "                       WHERE t1.album_id = (\n",
    "                                            SELECT t2.album_id\n",
    "                                              FROM track AS t2\n",
    "                                             WHERE t2.track_id = ift.first_track_id\n",
    "                                           )\n",
    "                      EXCEPT\n",
    "                      SELECT il.track_id\n",
    "                        FROM invoice_line AS il\n",
    "                       WHERE il.invoice_id = ift.invoice_id\n",
    "                     ) IS NULL\n",
    "                THEN 'album'\n",
    "                ELSE 'indivisual'\n",
    "             END AS purchase_type\n",
    "          FROM invoice_first_track AS ift\n",
    "        )\n",
    " GROUP BY purchase_type;"
   ]
  },
  {
   "cell_type": "markdown",
   "metadata": {},
   "source": [
    "### Remarks"
   ]
  },
  {
   "cell_type": "markdown",
   "metadata": {},
   "source": [
    "Each solution has its own advantage. \n",
    "\n",
    "The last solution is probably the most efficient and elegant way. It is nice it's not using many common table expressions, while it might be a little more difficult for readers to grasp the process.\n",
    "\n",
    "The first solution is adopting a totally different strategy to figure out purchase type and as a result became more lengthy. On the other hand it is probably easier to make sense what each part of the query is doing."
   ]
  },
  {
   "cell_type": "markdown",
   "metadata": {},
   "source": [
    "### Conclusion to the store's plan to change purchasing strategy"
   ]
  },
  {
   "cell_type": "markdown",
   "metadata": {},
   "source": [
    "To conclude, I would suggest NOT to completely get rid of album purchases since nearly 1/5 of invoices consists of album purchases and there is too much chance we would lose customers and revenue."
   ]
  },
  {
   "cell_type": "code",
   "execution_count": null,
   "metadata": {
    "collapsed": true
   },
   "outputs": [],
   "source": []
  }
 ],
 "metadata": {
  "kernelspec": {
   "display_name": "Python 3",
   "language": "python",
   "name": "python3"
  },
  "language_info": {
   "codemirror_mode": {
    "name": "ipython",
    "version": 3
   },
   "file_extension": ".py",
   "mimetype": "text/x-python",
   "name": "python",
   "nbconvert_exporter": "python",
   "pygments_lexer": "ipython3",
   "version": "3.8.5"
  }
 },
 "nbformat": 4,
 "nbformat_minor": 2
}
